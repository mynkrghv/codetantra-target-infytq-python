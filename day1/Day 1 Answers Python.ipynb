{
 "cells": [
  {
   "cell_type": "markdown",
   "id": "25cfdb1a-824c-4c21-8012-81a7f0445bdb",
   "metadata": {},
   "source": [
    "# Python - Language Features"
   ]
  },
  {
   "cell_type": "code",
   "execution_count": 5,
   "id": "86b5282d-0b7d-4e5a-a068-585918e2e7b3",
   "metadata": {
    "tags": []
   },
   "outputs": [
    {
     "name": "stdout",
     "output_type": "stream",
     "text": [
      "Python is Easy\n"
     ]
    }
   ],
   "source": [
    "# Ans 4\n",
    "\n",
    "print(\"Python is Easy\") "
   ]
  },
  {
   "cell_type": "code",
   "execution_count": 6,
   "id": "49a4ee53-b39e-40e7-a900-6fc2cdade521",
   "metadata": {},
   "outputs": [
    {
     "name": "stdout",
     "output_type": "stream",
     "text": [
      "Python is not Typhoon\n"
     ]
    }
   ],
   "source": [
    "# Ans 5\n",
    "\n",
    "print(\"Python is not Typhoon\")"
   ]
  },
  {
   "cell_type": "code",
   "execution_count": 7,
   "id": "a3d42db4-f528-4282-9a5a-2c8843ab0fd2",
   "metadata": {},
   "outputs": [
    {
     "name": "stdout",
     "output_type": "stream",
     "text": [
      "AbracadabraAbracadabraAbracadabraAbracadabraAbracadabraAbracadabraAbracadabra\n"
     ]
    }
   ],
   "source": [
    "# Ans 6\n",
    "\n",
    "print(\"Abracadabra\"*7)"
   ]
  },
  {
   "cell_type": "code",
   "execution_count": 8,
   "id": "285f8729-70a8-465f-b4d0-fa62bc866a8c",
   "metadata": {},
   "outputs": [
    {
     "name": "stdout",
     "output_type": "stream",
     "text": [
      "where there is a will, there is a way\n"
     ]
    }
   ],
   "source": [
    "# Ans 7\n",
    "\n",
    "print(\"wh\" \"ere\", \"the\" \"re\", \"is\" ,\"a\" ,\"will,\" ,\"th\"\"ere\", \"is\" ,\"a\", \"way\")"
   ]
  },
  {
   "cell_type": "markdown",
   "id": "6515a6aa-1062-43cb-91bc-bb95459b8f31",
   "metadata": {
    "tags": []
   },
   "source": [
    "# Comments\n"
   ]
  },
  {
   "cell_type": "code",
   "execution_count": 10,
   "id": "ce1f362e-8942-47df-8f18-51264d01968f",
   "metadata": {},
   "outputs": [
    {
     "name": "stdout",
     "output_type": "stream",
     "text": [
      "I am a Python Guru\n"
     ]
    }
   ],
   "source": [
    "# Ans 1\n",
    "\n",
    "# This is my first program\n",
    "print(\"I am a Python Guru\")\n",
    "# print(\"Python is not cool\")\n",
    "# print() is used to print the message on console"
   ]
  },
  {
   "cell_type": "code",
   "execution_count": 12,
   "id": "3f48012c-c4d1-4872-bb26-cd1b6f8d7333",
   "metadata": {},
   "outputs": [
    {
     "name": "stdout",
     "output_type": "stream",
     "text": [
      "1\n",
      "3\n",
      "5\n",
      "7\n",
      "9\n",
      "11\n",
      "13\n"
     ]
    }
   ],
   "source": [
    "# Ans 2\n",
    "\n",
    "print(\"1\")\n",
    "# print(\"2\")\n",
    "print(\"3\")\n",
    "# print(\"4\")\n",
    "print(\"5\")\n",
    "#print(\"6\")\n",
    "print(\"7\")\n",
    "#print(\"8\")\n",
    "print(\"9\")\n",
    "# print(\"10\")\n",
    "print(\"11\")\n",
    "# print(\"12\")\n",
    "print(\"13\")"
   ]
  },
  {
   "cell_type": "code",
   "execution_count": 14,
   "id": "99d1a146-a010-473a-8ca5-24d831a7997b",
   "metadata": {},
   "outputs": [
    {
     "name": "stdout",
     "output_type": "stream",
     "text": [
      "Return sum of given arguments.\n",
      "Return the power value.\n",
      "\t\n",
      "\tb -- is the base\n",
      "\te -- is the exponent\n",
      "\t\n"
     ]
    }
   ],
   "source": [
    "# Ans 3\n",
    "\n",
    "def add(a, b):\n",
    "\t\"\"\"Return sum of given arguments.\"\"\"\n",
    "\treturn a + b\n",
    "print(add.__doc__)\n",
    "def power(b, e):\n",
    "\t\"\"\"Return the power value.\n",
    "\t\n",
    "\tb -- is the base\n",
    "\te -- is the exponent\n",
    "\t\"\"\"\n",
    "\treturn b ** e\n",
    "print(power.__doc__)"
   ]
  },
  {
   "cell_type": "code",
   "execution_count": null,
   "id": "85284ba8-531f-41e1-8b4c-fce09aeb70b7",
   "metadata": {},
   "outputs": [],
   "source": [
    "# Ans 4"
   ]
  }
 ],
 "metadata": {
  "kernelspec": {
   "display_name": "Python 3 (ipykernel)",
   "language": "python",
   "name": "python3"
  },
  "language_info": {
   "codemirror_mode": {
    "name": "ipython",
    "version": 3
   },
   "file_extension": ".py",
   "mimetype": "text/x-python",
   "name": "python",
   "nbconvert_exporter": "python",
   "pygments_lexer": "ipython3",
   "version": "3.11.1"
  }
 },
 "nbformat": 4,
 "nbformat_minor": 5
}
